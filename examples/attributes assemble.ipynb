{
 "cells": [
  {
   "cell_type": "code",
   "execution_count": 1,
   "metadata": {},
   "outputs": [],
   "source": [
    "import os\n",
    "import sys\n",
    "sys.path.insert(0, os.path.abspath('..'))"
   ]
  },
  {
   "cell_type": "code",
   "execution_count": 2,
   "metadata": {},
   "outputs": [
    {
     "name": "stdout",
     "output_type": "stream",
     "text": [
      "fast speed 1.csv has been loaded\n",
      "fast speed 2.csv has been loaded\n",
      "fast speed 3.csv has been loaded\n",
      "self-selected non-stop.csv has been loaded\n",
      "self-selected speed 1.csv has been loaded\n",
      "self-selected speed 2.csv has been loaded\n",
      "self-selected speed 3.csv has been loaded\n",
      "slow speed 1.csv has been loaded\n",
      "slow speed 2.csv has been loaded\n",
      "slow speed 3.csv has been loaded\n"
     ]
    }
   ],
   "source": [
    "from viconProbe import data\n",
    "\n",
    "subjects = data.load(\n",
    "    folder='../viconProbe/subjects', \n",
    "    batches=['Model Outputs'], \n",
    "    vicon_data_class=data.ViconData_interp, \n",
    "    point_num=100,\n",
    "    threshold_num=50\n",
    ")"
   ]
  },
  {
   "cell_type": "code",
   "execution_count": 3,
   "metadata": {},
   "outputs": [],
   "source": [
    "joints_params = [\n",
    "    'Head_Head_End',\n",
    "    'L_Collar_L_Humerus',\n",
    "    'L_Elbow_L_Wrist',\n",
    "    'L_Femur_L_Tibia',\n",
    "    'L_Foot_L_Toe',\n",
    "    'L_Humerus_L_Elbow',\n",
    "    'L_Tibia_L_Foot',\n",
    "    'L_Wrist_L_Wrist_End',\n",
    "    'LowerBack_Head',\n",
    "    'LowerBack_L_Collar',\n",
    "    'LowerBack_R_Collar',\n",
    "    'R_Collar_R_Humerus',\n",
    "    'R_Elbow_R_Wrist',\n",
    "    'R_Femur_R_Tibia',\n",
    "    'R_Foot_R_Toe',\n",
    "    'R_Humerus_R_Elbow',\n",
    "    'R_Tibia_R_Foot',\n",
    "    'R_Wrist_R_Wrist_End',\n",
    "    'Root_L_Femur',\n",
    "    'Root_LowerBack',\n",
    "    'Root_R_Femur',\n",
    "    'World_Root',\n",
    "]"
   ]
  },
  {
   "cell_type": "code",
   "execution_count": 4,
   "metadata": {},
   "outputs": [],
   "source": [
    "model_outputs_params = [\n",
    "    'CentreOfMass',\n",
    "    'LAnkleAngles',\n",
    "    'LAnkleForce',\n",
    "    'LAnkleMoment',\n",
    "    'LAnklePower',\n",
    "    'LFootProgressAngles',\n",
    "    'LGroundReactionForce',\n",
    "    'LGroundReactionMoment',\n",
    "    'LHipAngles',\n",
    "    'LHipForce',\n",
    "    'LHipMoment',\n",
    "    'LHipPower',\n",
    "    'LKneeAngles',\n",
    "    'LKneeForce',\n",
    "    'LKneeMoment',\n",
    "    'LKneePower',\n",
    "    'LNormalisedGRF',\n",
    "    'LPelvisAngles',\n",
    "    'RAnkleAngles',\n",
    "    'RAnkleForce',\n",
    "    'RAnkleMoment',\n",
    "    'RAnklePower',\n",
    "    'RFootProgressAngles',\n",
    "    'RGroundReactionForce',\n",
    "    'RGroundReactionMoment',\n",
    "    'RHipAngles',\n",
    "    'RHipForce',\n",
    "    'RHipMoment',\n",
    "    'RHipPower',\n",
    "    'RKneeAngles',\n",
    "    'RKneeForce',\n",
    "    'RKneeMoment',\n",
    "    'RKneePower',\n",
    "    'RNormalisedGRF',\n",
    "    'RPelvisAngles',\n",
    "]"
   ]
  },
  {
   "cell_type": "code",
   "execution_count": 5,
   "metadata": {},
   "outputs": [
    {
     "name": "stdout",
     "output_type": "stream",
     "text": [
      "/../viconProbe/outputs/zhaoloon - Model Outputs.xls has been outputed\n"
     ]
    }
   ],
   "source": [
    "from viconProbe import export\n",
    "export.format_save(\n",
    "    subjects=subjects,\n",
    "    batch='Model Outputs', \n",
    "    params=model_outputs_params,\n",
    "    save_path='../viconProbe/outputs',\n",
    ")"
   ]
  }
 ],
 "metadata": {
  "kernelspec": {
   "display_name": "base",
   "language": "python",
   "name": "python3"
  },
  "language_info": {
   "codemirror_mode": {
    "name": "ipython",
    "version": 3
   },
   "file_extension": ".py",
   "mimetype": "text/x-python",
   "name": "python",
   "nbconvert_exporter": "python",
   "pygments_lexer": "ipython3",
   "version": "3.8.8"
  },
  "orig_nbformat": 4,
  "vscode": {
   "interpreter": {
    "hash": "8c8ccae62b03e03f602162ec2d3ff7715f4331cfb18cae8be1463dcdd08d9f0b"
   }
  }
 },
 "nbformat": 4,
 "nbformat_minor": 2
}
