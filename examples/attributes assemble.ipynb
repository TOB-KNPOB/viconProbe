{
 "cells": [
  {
   "cell_type": "code",
   "execution_count": null,
   "metadata": {},
   "outputs": [],
   "source": [
    "import os\n",
    "import sys\n",
    "sys.path.insert(0, os.path.abspath('..'))"
   ]
  },
  {
   "cell_type": "code",
   "execution_count": null,
   "metadata": {},
   "outputs": [],
   "source": [
    "from viconProbe import data\n",
    "\n",
    "subjects = data.load(\n",
    "    folder='../viconProbe/subjects', \n",
    "    batches=['Model Outputs'], \n",
    "    vicon_data_class=data.ViconData_interp, \n",
    "    point_num=100,\n",
    "    threshold_num=50\n",
    ")"
   ]
  },
  {
   "cell_type": "code",
   "execution_count": null,
   "metadata": {},
   "outputs": [],
   "source": [
    "model_outputs_params = [\n",
    "    'CentreOfMass',\n",
    "    'LAnkleAngles',\n",
    "    'LAnkleForce',\n",
    "    'LAnkleMoment',\n",
    "    'LAnklePower',\n",
    "    'LFootProgressAngles',\n",
    "    'LGroundReactionForce',\n",
    "    'LGroundReactionMoment',\n",
    "    'LHipAngles',\n",
    "    'LHipForce',\n",
    "    'LHipMoment',\n",
    "    'LHipPower',\n",
    "    'LKneeAngles',\n",
    "    'LKneeForce',\n",
    "    'LKneeMoment',\n",
    "    'LKneePower',\n",
    "    'LNormalisedGRF',\n",
    "    'LPelvisAngles',\n",
    "    'RAnkleAngles',\n",
    "    'RAnkleForce',\n",
    "    'RAnkleMoment',\n",
    "    'RAnklePower',\n",
    "    'RFootProgressAngles',\n",
    "    'RGroundReactionForce',\n",
    "    'RGroundReactionMoment',\n",
    "    'RHipAngles',\n",
    "    'RHipForce',\n",
    "    'RHipMoment',\n",
    "    'RHipPower',\n",
    "    'RKneeAngles',\n",
    "    'RKneeForce',\n",
    "    'RKneeMoment',\n",
    "    'RKneePower',\n",
    "    'RNormalisedGRF',\n",
    "    'RPelvisAngles',\n",
    "]"
   ]
  },
  {
   "cell_type": "code",
   "execution_count": null,
   "metadata": {},
   "outputs": [],
   "source": [
    "from viconProbe import export\n",
    "\n",
    "export.export_gait_attrs(\n",
    "    subjects=subjects,\n",
    "    batch='Model Outputs', \n",
    "    params=model_outputs_params,\n",
    "    export_folder='../viconProbe/outputs',\n",
    ")"
   ]
  },
  {
   "cell_type": "code",
   "execution_count": null,
   "metadata": {},
   "outputs": [],
   "source": []
  }
 ],
 "metadata": {
  "kernelspec": {
   "display_name": "base",
   "language": "python",
   "name": "python3"
  },
  "language_info": {
   "codemirror_mode": {
    "name": "ipython",
    "version": 3
   },
   "file_extension": ".py",
   "mimetype": "text/x-python",
   "name": "python",
   "nbconvert_exporter": "python",
   "pygments_lexer": "ipython3",
   "version": "3.8.8"
  },
  "vscode": {
   "interpreter": {
    "hash": "8c8ccae62b03e03f602162ec2d3ff7715f4331cfb18cae8be1463dcdd08d9f0b"
   }
  }
 },
 "nbformat": 4,
 "nbformat_minor": 2
}
